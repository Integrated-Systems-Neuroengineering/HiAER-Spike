{
  "cells": [
    {
      "attachments": {},
      "cell_type": "markdown",
      "id": "6d37114a",
      "metadata": {},
      "source": [
        "## Feedforward Fully Connected SNN\n",
        "This tutorial goes over how to train a simple feedforward SNN and deploy on HiAER Spike using our conversion pipline.\n",
        "\n",
        "### Define a Feedforward SNN\n",
        "To build a simple feedforward spiking neural network with PyTorch, we can use snnTorch, SpikingJelly or other deep learning frameworks that are based on PyTorch. Currently, our conversion pipline supports snnTorch and SpikingJelly. In this tutorial, we will be using SpikingJelly."
      ]
    },
    {
      "cell_type": "code",
      "execution_count": null,
      "id": "e7d6b928",
      "metadata": {},
      "outputs": [],
      "source": []
    },
    {
      "cell_type": "code",
      "execution_count": null,
      "id": "0a8d87cc",
      "metadata": {},
      "outputs": [],
      "source": []
    }
  ],
  "metadata": {
    "kernelspec": {
      "display_name": "Python 3 (ipykernel)",
      "language": "python",
      "name": "python3"
    }
  },
  "nbformat": 4,
  "nbformat_minor": 5
}
